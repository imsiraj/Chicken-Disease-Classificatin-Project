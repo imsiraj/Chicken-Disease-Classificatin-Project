{
 "cells": [
  {
   "cell_type": "code",
   "execution_count": 2,
   "metadata": {},
   "outputs": [],
   "source": [
    "import os"
   ]
  },
  {
   "cell_type": "code",
   "execution_count": 3,
   "metadata": {},
   "outputs": [],
   "source": [
    "os.chdir('../')"
   ]
  },
  {
   "cell_type": "code",
   "execution_count": 4,
   "metadata": {},
   "outputs": [
    {
     "data": {
      "text/plain": [
       "'e:\\\\KN-Projects\\\\Chicken-Disease-Classificatin-Project'"
      ]
     },
     "execution_count": 4,
     "metadata": {},
     "output_type": "execute_result"
    }
   ],
   "source": [
    "%pwd"
   ]
  },
  {
   "cell_type": "code",
   "execution_count": 16,
   "metadata": {},
   "outputs": [],
   "source": [
    "from dataclasses import dataclass\n",
    "from pathlib import Path\n",
    "\n",
    "@dataclass(frozen=True)\n",
    "class PrepareCallbacksConfig:\n",
    "    root_dir : Path\n",
    "    tensorboard_root_log_dir: Path\n",
    "    checkpoint_model_filepath: Path"
   ]
  },
  {
   "cell_type": "code",
   "execution_count": 17,
   "metadata": {},
   "outputs": [],
   "source": [
    "from cnnClassifier.constants import *\n",
    "from cnnClassifier.utils.common import read_yaml, create_directories"
   ]
  },
  {
   "cell_type": "code",
   "execution_count": 18,
   "metadata": {},
   "outputs": [
    {
     "data": {
      "text/plain": [
       "'artifacts/prepare_callbacks/checkpoint_dir'"
      ]
     },
     "execution_count": 18,
     "metadata": {},
     "output_type": "execute_result"
    }
   ],
   "source": [
    "os.path.dirname('artifacts/prepare_callbacks/checkpoint_dir/model.h5')"
   ]
  },
  {
   "cell_type": "code",
   "execution_count": 19,
   "metadata": {},
   "outputs": [],
   "source": [
    "from pathlib import Path \n",
    "\n",
    "class ConfigurationManager:\n",
    "    def __init__(self, \n",
    "                config_file_path = CONFIG_FILE_PATH, \n",
    "                params_file_path = PARAMS_FILE_PATH):\n",
    "        try:\n",
    "            self.config = read_yaml(config_file_path)\n",
    "            self.params = read_yaml(params_file_path)\n",
    "            create_directories([self.config.artifacts_root])\n",
    "        except Exception as e:\n",
    "            raise e\n",
    "\n",
    "    def get_prepare_callback_config(self) -> PrepareCallbacksConfig:\n",
    "        try:\n",
    "            config = self.config.prepare_callbacks\n",
    "\n",
    "            root_dir = config.root_dir\n",
    "            model_checkpoint_dir = os.path.dirname(config.checkpoint_model_filepath)   \n",
    "\n",
    "            create_directories([\n",
    "                Path(model_checkpoint_dir),\n",
    "                Path(config.tensorboard_root_log_dir)\n",
    "            ])         \n",
    "\n",
    "            prepare_callback_config = PrepareCallbacksConfig(\n",
    "                root_dir=Path(root_dir),\n",
    "                tensorboard_root_log_dir=Path(config.tensorboard_root_log_dir),\n",
    "                checkpoint_model_filepath=Path(config.checkpoint_model_filepath)\n",
    "            )\n",
    "            \n",
    "            return prepare_callback_config\n",
    "        except Exception as e:\n",
    "            raise e"
   ]
  },
  {
   "cell_type": "code",
   "execution_count": 20,
   "metadata": {},
   "outputs": [
    {
     "data": {
      "text/plain": [
       "'2023-07-18-20-01-44'"
      ]
     },
     "execution_count": 20,
     "metadata": {},
     "output_type": "execute_result"
    }
   ],
   "source": [
    "import time \n",
    "\n",
    "time.strftime(\"%Y-%m-%d-%H-%M-%S\")"
   ]
  },
  {
   "cell_type": "code",
   "execution_count": 21,
   "metadata": {},
   "outputs": [],
   "source": [
    "import os\n",
    "import urllib.request as request\n",
    "from zipfile import ZipFile\n",
    "import tensorflow as tf\n",
    "import time"
   ]
  },
  {
   "cell_type": "code",
   "execution_count": 25,
   "metadata": {},
   "outputs": [],
   "source": [
    "import tensorflow as tf\n",
    "import time \n",
    "\n",
    "\n",
    "class PrepareCallbacks:\n",
    "    def __init__(self, config: PrepareCallbacksConfig):\n",
    "        self.config = config\n",
    "\n",
    "    #Enable visualizations for TensorBoard.\n",
    "    @property\n",
    "    def _create_tb_callbacks(self):                                                 \n",
    "        try:\n",
    "            timestamp = time.strftime(\"%Y-%m-%d-%H-%M-%S\")\n",
    "            tb_running_log_dir = os.path.join(\n",
    "                                            self.config.tensorboard_root_log_dir,\n",
    "                                            f\"tb_logs_at_{timestamp}\"\n",
    "                                                )   \n",
    "            return tf.keras.callbacks.TensorBoard(log_dir=tb_running_log_dir)\n",
    "        except Exception as e:\n",
    "            raise e\n",
    "        \n",
    "    #ModelCheckpoint callback is used in conjunction with training using model. fit() to save a model or weights (in a checkpoint file) //\n",
    "    # at some interval, so the model or weights can be loaded later to continue the training from the state saved.    \n",
    "    @property\n",
    "    def _create_ckpt_callbacks(self):\n",
    "        try:\n",
    "            return tf.keras.callbacks.ModelCheckpoint(filepath = str(self.config.checkpoint_model_filepath),\n",
    "                                                      save_best_only = True)\n",
    "        except Exception as e:\n",
    "            raise e\n",
    "\n",
    "\n",
    "    def get_tb_ckpt_callbacks(self):\n",
    "        try:\n",
    "            return [self._create_tb_callbacks,self._create_ckpt_callbacks]\n",
    "        except Exception as e:\n",
    "            raise e"
   ]
  },
  {
   "cell_type": "code",
   "execution_count": 26,
   "metadata": {},
   "outputs": [
    {
     "name": "stdout",
     "output_type": "stream",
     "text": [
      "[2023-07-18 20:13:58,301:INFO:common: yaml file: config\\config.yaml loaded successfully]\n",
      "[2023-07-18 20:13:58,307:INFO:common: yaml file: params.yaml loaded successfully]\n",
      "[2023-07-18 20:13:58,309:INFO:common: created directory at: artifacts]\n"
     ]
    },
    {
     "name": "stdout",
     "output_type": "stream",
     "text": [
      "[2023-07-18 20:13:58,313:INFO:common: created directory at: artifacts\\prepare_callbacks\\checkpoint_dir]\n",
      "[2023-07-18 20:13:58,314:INFO:common: created directory at: artifacts\\prepare_callbacks\\tensorboard_log_dir]\n"
     ]
    }
   ],
   "source": [
    "try:\n",
    "    config = ConfigurationManager()\n",
    "    prepare_callbacks_model_config = config.get_prepare_callback_config()\n",
    "    prepare_callbacks_model = PrepareCallbacks(config=prepare_callbacks_model_config)\n",
    "    callback_list = prepare_callbacks_model.get_tb_ckpt_callbacks()\n",
    "except Exception as e:\n",
    "    raise e "
   ]
  },
  {
   "cell_type": "code",
   "execution_count": 24,
   "metadata": {},
   "outputs": [
    {
     "data": {
      "text/plain": [
       "'tb_logs_at2023-07-18-20-01-56'"
      ]
     },
     "execution_count": 24,
     "metadata": {},
     "output_type": "execute_result"
    }
   ],
   "source": [
    "import time \n",
    "timestamp = time.strftime(\"%Y-%m-%d-%H-%M-%S\")\n",
    "f\"tb_logs_at{timestamp}\""
   ]
  },
  {
   "cell_type": "code",
   "execution_count": null,
   "metadata": {},
   "outputs": [],
   "source": []
  }
 ],
 "metadata": {
  "kernelspec": {
   "display_name": "chicken",
   "language": "python",
   "name": "python3"
  },
  "language_info": {
   "codemirror_mode": {
    "name": "ipython",
    "version": 3
   },
   "file_extension": ".py",
   "mimetype": "text/x-python",
   "name": "python",
   "nbconvert_exporter": "python",
   "pygments_lexer": "ipython3",
   "version": "3.8.17"
  },
  "orig_nbformat": 4
 },
 "nbformat": 4,
 "nbformat_minor": 2
}
