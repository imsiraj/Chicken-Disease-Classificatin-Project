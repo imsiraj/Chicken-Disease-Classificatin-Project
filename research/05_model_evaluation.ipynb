{
 "cells": [
  {
   "cell_type": "code",
   "execution_count": 1,
   "metadata": {},
   "outputs": [],
   "source": [
    "import os"
   ]
  },
  {
   "cell_type": "code",
   "execution_count": 2,
   "metadata": {},
   "outputs": [
    {
     "data": {
      "text/plain": [
       "'e:\\\\KN-Projects\\\\Chicken-Disease-Classificatin-Project\\\\research'"
      ]
     },
     "execution_count": 2,
     "metadata": {},
     "output_type": "execute_result"
    }
   ],
   "source": [
    "%pwd"
   ]
  },
  {
   "cell_type": "code",
   "execution_count": 3,
   "metadata": {},
   "outputs": [],
   "source": [
    "os.chdir('../')"
   ]
  },
  {
   "cell_type": "code",
   "execution_count": 4,
   "metadata": {},
   "outputs": [
    {
     "data": {
      "text/plain": [
       "'e:\\\\KN-Projects\\\\Chicken-Disease-Classificatin-Project'"
      ]
     },
     "execution_count": 4,
     "metadata": {},
     "output_type": "execute_result"
    }
   ],
   "source": [
    "%pwd"
   ]
  },
  {
   "cell_type": "code",
   "execution_count": 5,
   "metadata": {},
   "outputs": [],
   "source": [
    "import tensorflow as tf"
   ]
  },
  {
   "cell_type": "code",
   "execution_count": 26,
   "metadata": {},
   "outputs": [],
   "source": [
    "model=tf.keras.models.load_model(\"artifacts/training/model.h5\")"
   ]
  },
  {
   "cell_type": "code",
   "execution_count": 27,
   "metadata": {},
   "outputs": [],
   "source": [
    "from dataclasses import dataclass\n",
    "from pathlib import Path\n",
    "\n",
    "@dataclass(frozen=True)\n",
    "class EvaluationConfig:\n",
    "    path_of_model : Path\n",
    "    training_data : Path\n",
    "    all_params: dict\n",
    "    params_image_size : list\n",
    "    params_batch_size : int"
   ]
  },
  {
   "cell_type": "code",
   "execution_count": 18,
   "metadata": {},
   "outputs": [],
   "source": [
    "from cnnClassifier.constants import *\n",
    "from cnnClassifier.utils.common import read_yaml,create_directories,save_json"
   ]
  },
  {
   "cell_type": "code",
   "execution_count": 29,
   "metadata": {},
   "outputs": [],
   "source": [
    "class ConfigurationManager:\n",
    "    def __init__(self, \n",
    "                config_file_path = CONFIG_FILE_PATH, \n",
    "                params_file_path = PARAMS_FILE_PATH):\n",
    "            self.config = read_yaml(config_file_path)\n",
    "            self.params = read_yaml(params_file_path)\n",
    "            create_directories([self.config.artifacts_root])\n",
    "\n",
    "    def get_validation_config(self)->EvaluationConfig:\n",
    "          eval_config = EvaluationConfig(\n",
    "                path_of_model=\"artifacts/training/model.h5\",\n",
    "                training_data=\"artifacts/data_ingestion/Chicken-fecal-images\",\n",
    "                all_params=self.params,\n",
    "                params_image_size=self.params.IMAGE_SIZE,\n",
    "                params_batch_size=self.params.BATCH_SIZE\n",
    "            )\n",
    "          \n",
    "          return eval_config"
   ]
  },
  {
   "cell_type": "code",
   "execution_count": 20,
   "metadata": {},
   "outputs": [],
   "source": [
    "from urllib.parse import urlparse"
   ]
  },
  {
   "cell_type": "code",
   "execution_count": 31,
   "metadata": {},
   "outputs": [],
   "source": [
    "class Evaluation:\n",
    "    def __init__(self,config:EvaluationConfig):\n",
    "        self.config = config\n",
    "\n",
    "    def _valid_generator(self):\n",
    "        datagenerator_kwargs = dict(\n",
    "            rescale=1./255,\n",
    "            validation_split=0.30\n",
    "        )\n",
    "\n",
    "        data_flow_kwargs = dict(\n",
    "            target_size=self.config.params_image_size[:-1],\n",
    "            batch_size=self.config.params_batch_size,\n",
    "            interpolation=\"bilinear\"\n",
    "        )\n",
    "\n",
    "        valid_datagenerator=tf.keras.preprocessing.image.ImageDataGenerator(\n",
    "            **datagenerator_kwargs\n",
    "        )\n",
    "\n",
    "\n",
    "        self.valid_generator=valid_datagenerator.flow_from_directory(\n",
    "            directory=self.config.training_data,\n",
    "            subset=\"validation\",\n",
    "            shuffle=True,\n",
    "            **data_flow_kwargs\n",
    "            \n",
    "        )\n",
    "\n",
    "\n",
    "    @staticmethod\n",
    "    def load_model(path:Path)->tf.keras.Model:\n",
    "        return tf.keras.models.load_model(path)\n",
    "        \n",
    "    def evaluation(self):\n",
    "        self.model=self.load_model(self.config.path_of_model)\n",
    "        self._valid_generator()\n",
    "        self.score=model.evaluate(self.valid_generator)\n",
    "\n",
    "    def save_score(self):\n",
    "        scores={\"loss\":self.score[0],\"accuracy\":self.score[1]}\n",
    "        save_json(path=Path(\"scores.json\"),data=scores)\n",
    "\n"
   ]
  },
  {
   "cell_type": "code",
   "execution_count": 32,
   "metadata": {},
   "outputs": [
    {
     "name": "stdout",
     "output_type": "stream",
     "text": [
      "[2023-07-19 20:50:50,137:INFO:common: yaml file: config\\config.yaml loaded successfully]\n",
      "[2023-07-19 20:50:50,145:INFO:common: yaml file: params.yaml loaded successfully]\n",
      "[2023-07-19 20:50:50,149:INFO:common: created directory at: artifacts]\n",
      "Found 116 images belonging to 2 classes.\n",
      "8/8 [==============================] - 30s 4s/step - loss: 0.4910 - accuracy: 0.8707\n",
      "[2023-07-19 20:51:23,501:INFO:common: json file saved at: scores.json]\n"
     ]
    }
   ],
   "source": [
    "try:\n",
    "    config=ConfigurationManager()\n",
    "    val_config=config.get_validation_config()\n",
    "    evaluation=Evaluation(val_config)\n",
    "    evaluation.evaluation()\n",
    "    evaluation.save_score()\n",
    "\n",
    "except Exception as e:\n",
    "    raise e"
   ]
  },
  {
   "cell_type": "code",
   "execution_count": null,
   "metadata": {},
   "outputs": [],
   "source": []
  }
 ],
 "metadata": {
  "kernelspec": {
   "display_name": "chicken",
   "language": "python",
   "name": "python3"
  },
  "language_info": {
   "codemirror_mode": {
    "name": "ipython",
    "version": 3
   },
   "file_extension": ".py",
   "mimetype": "text/x-python",
   "name": "python",
   "nbconvert_exporter": "python",
   "pygments_lexer": "ipython3",
   "version": "3.8.17"
  },
  "orig_nbformat": 4
 },
 "nbformat": 4,
 "nbformat_minor": 2
}
